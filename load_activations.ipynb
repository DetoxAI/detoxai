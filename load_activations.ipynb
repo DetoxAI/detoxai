{
 "cells": [
  {
   "cell_type": "markdown",
   "metadata": {},
   "source": [
    "# Tutorial on extracting activations"
   ]
  },
  {
   "cell_type": "markdown",
   "metadata": {},
   "source": [
    "### Extracting and saving activations from ResNet18/5% of CIFAR10"
   ]
  },
  {
   "cell_type": "code",
   "execution_count": 1,
   "metadata": {},
   "outputs": [
    {
     "name": "stderr",
     "output_type": "stream",
     "text": [
      "/Users/michalwilinski/Work/bachelor/debias_env/lib/python3.11/site-packages/torchvision/models/_utils.py:208: UserWarning: The parameter 'pretrained' is deprecated since 0.13 and may be removed in the future, please use 'weights' instead.\n",
      "  warnings.warn(\n",
      "/Users/michalwilinski/Work/bachelor/debias_env/lib/python3.11/site-packages/torchvision/models/_utils.py:223: UserWarning: Arguments other than a weight enum or `None` for 'weights' are deprecated since 0.13 and may be removed in the future. The current behavior is equivalent to passing `weights=ResNet18_Weights.IMAGENET1K_V1`. You can also use `weights=ResNet18_Weights.DEFAULT` to get the most up-to-date weights.\n",
      "  warnings.warn(msg)\n"
     ]
    },
    {
     "name": "stdout",
     "output_type": "stream",
     "text": [
      "Files already downloaded and verified\n",
      "Loaded activations from './activations/resnet18_cifar10.npz'\n",
      "Done!\n"
     ]
    }
   ],
   "source": [
    "from torch.utils.data import DataLoader\n",
    "import torch\n",
    "import torchvision.transforms as transforms\n",
    "import torchvision.datasets as datasets\n",
    "import torchvision\n",
    "import numpy as np\n",
    "from pprint import pprint\n",
    "\n",
    "from tcav.extract_activations import extract_activations\n",
    "\n",
    "# Define your model\n",
    "model = torchvision.models.resnet18(pretrained=True)\n",
    "\n",
    "# Define your dataset and dataloader\n",
    "transform = transforms.Compose([\n",
    "    transforms.Resize(256),\n",
    "    transforms.CenterCrop(224),\n",
    "    transforms.ToTensor(),\n",
    "])\n",
    "dataset = datasets.CIFAR10(root='./example_data', train=False, download=True, transform=transform)\n",
    "\n",
    "dataset = torch.utils.data.Subset(dataset, np.random.choice(len(dataset), int(len(dataset) * 0.05)))\n",
    "dataloader = DataLoader(dataset, batch_size=20, shuffle=False, num_workers=4)\n",
    "\n",
    "# Define the experiment name\n",
    "experiment_name = 'resnet18_cifar10'\n",
    "\n",
    "extract_activations(\n",
    "    model=model,\n",
    "    dataloader=dataloader,\n",
    "    experiment_name=experiment_name,\n",
    "    layers=None,  # None to extract from all layers\n",
    "    device='cuda' if torch.cuda.is_available() else 'cpu',\n",
    ")\n",
    "\n",
    "print('Done!')"
   ]
  },
  {
   "cell_type": "markdown",
   "metadata": {},
   "source": [
    "### Loading and interacting with activations\n",
    "\n",
    "Treat loaded file as a dict. Each key is a layer name, and each value is a numpy array of shape (num_samples, num_channels, height, width) for conv layers or (num_samples, num_features) for dense layers.\n",
    "The first entry will be `labels`, which is a numpy array of shape (num_samples, no_features) containing the labels of the samples and concept values."
   ]
  },
  {
   "cell_type": "code",
   "execution_count": 2,
   "metadata": {},
   "outputs": [],
   "source": [
    "activations = np.load('activations/resnet18_cifar10.npz')"
   ]
  },
  {
   "cell_type": "code",
   "execution_count": 3,
   "metadata": {},
   "outputs": [
    {
     "data": {
      "text/plain": [
       "(500, 1)"
      ]
     },
     "execution_count": 3,
     "metadata": {},
     "output_type": "execute_result"
    }
   ],
   "source": [
    "activations['labels'].shape"
   ]
  },
  {
   "cell_type": "code",
   "execution_count": 4,
   "metadata": {},
   "outputs": [
    {
     "name": "stdout",
     "output_type": "stream",
     "text": [
      "['labels',\n",
      " 'conv1',\n",
      " 'bn1',\n",
      " 'relu',\n",
      " 'maxpool',\n",
      " 'layer1.0.conv1',\n",
      " 'layer1.0.bn1',\n",
      " 'layer1.0.relu',\n",
      " 'layer1.0.conv2',\n",
      " 'layer1.0.bn2',\n",
      " 'layer1.0',\n",
      " 'layer1.1.conv1',\n",
      " 'layer1.1.bn1',\n",
      " 'layer1.1.relu',\n",
      " 'layer1.1.conv2',\n",
      " 'layer1.1.bn2',\n",
      " 'layer1.1',\n",
      " 'layer1',\n",
      " 'layer2.0.conv1',\n",
      " 'layer2.0.bn1',\n",
      " 'layer2.0.relu',\n",
      " 'layer2.0.conv2',\n",
      " 'layer2.0.bn2',\n",
      " 'layer2.0.downsample.0',\n",
      " 'layer2.0.downsample.1',\n",
      " 'layer2.0.downsample',\n",
      " 'layer2.0',\n",
      " 'layer2.1.conv1',\n",
      " 'layer2.1.bn1',\n",
      " 'layer2.1.relu',\n",
      " 'layer2.1.conv2',\n",
      " 'layer2.1.bn2',\n",
      " 'layer2.1',\n",
      " 'layer2',\n",
      " 'layer3.0.conv1',\n",
      " 'layer3.0.bn1',\n",
      " 'layer3.0.relu',\n",
      " 'layer3.0.conv2',\n",
      " 'layer3.0.bn2',\n",
      " 'layer3.0.downsample.0',\n",
      " 'layer3.0.downsample.1',\n",
      " 'layer3.0.downsample',\n",
      " 'layer3.0',\n",
      " 'layer3.1.conv1',\n",
      " 'layer3.1.bn1',\n",
      " 'layer3.1.relu',\n",
      " 'layer3.1.conv2',\n",
      " 'layer3.1.bn2',\n",
      " 'layer3.1',\n",
      " 'layer3',\n",
      " 'layer4.0.conv1',\n",
      " 'layer4.0.bn1',\n",
      " 'layer4.0.relu',\n",
      " 'layer4.0.conv2',\n",
      " 'layer4.0.bn2',\n",
      " 'layer4.0.downsample.0',\n",
      " 'layer4.0.downsample.1',\n",
      " 'layer4.0.downsample',\n",
      " 'layer4.0',\n",
      " 'layer4.1.conv1',\n",
      " 'layer4.1.bn1',\n",
      " 'layer4.1.relu',\n",
      " 'layer4.1.conv2',\n",
      " 'layer4.1.bn2',\n",
      " 'layer4.1',\n",
      " 'layer4',\n",
      " 'avgpool',\n",
      " 'fc']\n"
     ]
    }
   ],
   "source": [
    "layer_names = activations.files\n",
    "pprint(layer_names)"
   ]
  },
  {
   "cell_type": "code",
   "execution_count": 5,
   "metadata": {},
   "outputs": [
    {
     "name": "stdout",
     "output_type": "stream",
     "text": [
      "(500, 1)\n",
      "(500, 64, 112, 112)\n",
      "(500, 64, 112, 112)\n",
      "(500, 64, 112, 112)\n",
      "(500, 64, 56, 56)\n",
      "(500, 64, 56, 56)\n",
      "(500, 64, 56, 56)\n",
      "(1000, 64, 56, 56)\n",
      "(500, 64, 56, 56)\n",
      "(500, 64, 56, 56)\n",
      "(500, 64, 56, 56)\n",
      "(500, 64, 56, 56)\n",
      "(500, 64, 56, 56)\n",
      "(1000, 64, 56, 56)\n",
      "(500, 64, 56, 56)\n",
      "(500, 64, 56, 56)\n",
      "(500, 64, 56, 56)\n",
      "(500, 64, 56, 56)\n",
      "(500, 128, 28, 28)\n",
      "(500, 128, 28, 28)\n",
      "(1000, 128, 28, 28)\n",
      "(500, 128, 28, 28)\n",
      "(500, 128, 28, 28)\n",
      "(500, 128, 28, 28)\n",
      "(500, 128, 28, 28)\n",
      "(500, 128, 28, 28)\n",
      "(500, 128, 28, 28)\n",
      "(500, 128, 28, 28)\n",
      "(500, 128, 28, 28)\n",
      "(1000, 128, 28, 28)\n",
      "(500, 128, 28, 28)\n",
      "(500, 128, 28, 28)\n",
      "(500, 128, 28, 28)\n",
      "(500, 128, 28, 28)\n",
      "(500, 256, 14, 14)\n",
      "(500, 256, 14, 14)\n",
      "(1000, 256, 14, 14)\n",
      "(500, 256, 14, 14)\n",
      "(500, 256, 14, 14)\n",
      "(500, 256, 14, 14)\n",
      "(500, 256, 14, 14)\n",
      "(500, 256, 14, 14)\n",
      "(500, 256, 14, 14)\n",
      "(500, 256, 14, 14)\n",
      "(500, 256, 14, 14)\n",
      "(1000, 256, 14, 14)\n",
      "(500, 256, 14, 14)\n",
      "(500, 256, 14, 14)\n",
      "(500, 256, 14, 14)\n",
      "(500, 256, 14, 14)\n",
      "(500, 512, 7, 7)\n",
      "(500, 512, 7, 7)\n",
      "(1000, 512, 7, 7)\n",
      "(500, 512, 7, 7)\n",
      "(500, 512, 7, 7)\n",
      "(500, 512, 7, 7)\n",
      "(500, 512, 7, 7)\n",
      "(500, 512, 7, 7)\n",
      "(500, 512, 7, 7)\n",
      "(500, 512, 7, 7)\n",
      "(500, 512, 7, 7)\n",
      "(1000, 512, 7, 7)\n",
      "(500, 512, 7, 7)\n",
      "(500, 512, 7, 7)\n",
      "(500, 512, 7, 7)\n",
      "(500, 512, 7, 7)\n",
      "(500, 512, 1, 1)\n",
      "(500, 1000)\n"
     ]
    }
   ],
   "source": [
    "for item in layer_names:\n",
    "    pprint(activations[item].shape)"
   ]
  }
 ],
 "metadata": {
  "kernelspec": {
   "display_name": "Python 3",
   "language": "python",
   "name": "python3"
  },
  "language_info": {
   "codemirror_mode": {
    "name": "ipython",
    "version": 3
   },
   "file_extension": ".py",
   "mimetype": "text/x-python",
   "name": "python",
   "nbconvert_exporter": "python",
   "pygments_lexer": "ipython3",
   "version": "3.11.5"
  }
 },
 "nbformat": 4,
 "nbformat_minor": 2
}
