{
 "cells": [
  {
   "cell_type": "markdown",
   "metadata": {},
   "source": [
    "# Tutorial on CAVs\n"
   ]
  },
  {
   "cell_type": "markdown",
   "metadata": {},
   "source": [
    "### Extracting and saving activations from ResNet18/5% of CIFAR10"
   ]
  },
  {
   "cell_type": "code",
   "execution_count": 1,
   "metadata": {},
   "outputs": [
    {
     "name": "stderr",
     "output_type": "stream",
     "text": [
      "/Users/michalwilinski/Work/bachelor/debias_env/lib/python3.11/site-packages/torchvision/models/_utils.py:208: UserWarning: The parameter 'pretrained' is deprecated since 0.13 and may be removed in the future, please use 'weights' instead.\n",
      "  warnings.warn(\n",
      "/Users/michalwilinski/Work/bachelor/debias_env/lib/python3.11/site-packages/torchvision/models/_utils.py:223: UserWarning: Arguments other than a weight enum or `None` for 'weights' are deprecated since 0.13 and may be removed in the future. The current behavior is equivalent to passing `weights=ResNet18_Weights.IMAGENET1K_V1`. You can also use `weights=ResNet18_Weights.DEFAULT` to get the most up-to-date weights.\n",
      "  warnings.warn(msg)\n"
     ]
    },
    {
     "name": "stdout",
     "output_type": "stream",
     "text": [
      "Files already downloaded and verified\n",
      "Loaded activations from './activations/resnet18_cifar10.npz'\n",
      "Done!\n"
     ]
    }
   ],
   "source": [
    "from torch.utils.data import DataLoader\n",
    "import torch\n",
    "import torchvision.transforms as transforms\n",
    "import torchvision.datasets as datasets\n",
    "import torchvision\n",
    "import numpy as np\n",
    "from pprint import pprint\n",
    "\n",
    "from tcav.extract_activations import extract_activations\n",
    "\n",
    "# Define your model\n",
    "model = torchvision.models.resnet18(pretrained=True)\n",
    "\n",
    "# Define your dataset and dataloader\n",
    "transform = transforms.Compose([\n",
    "    transforms.Resize(256),\n",
    "    transforms.CenterCrop(224),\n",
    "    transforms.ToTensor(),\n",
    "])\n",
    "dataset = datasets.CIFAR10(root='./example_data', train=False, download=True, transform=transform)\n",
    "\n",
    "dataset = torch.utils.data.Subset(dataset, np.random.choice(len(dataset), int(len(dataset) * 0.1)))\n",
    "dataloader = DataLoader(dataset, batch_size=1, shuffle=False, num_workers=4)\n",
    "\n",
    "# Define the experiment name\n",
    "experiment_name = 'resnet18_cifar10'\n",
    "\n",
    "extract_activations(\n",
    "    model=model,\n",
    "    dataloader=dataloader,\n",
    "    experiment_name=experiment_name,\n",
    "    layers=None,  # None to extract from all layers\n",
    "    device='cuda' if torch.cuda.is_available() else 'cpu',\n",
    ")\n",
    "\n",
    "print('Done!')"
   ]
  },
  {
   "cell_type": "markdown",
   "metadata": {},
   "source": [
    "### Loading and interacting with activations\n",
    "\n",
    "Treat loaded file as a dict. Each key is a layer name, and each value is a numpy array of shape (num_samples, num_channels, height, width) for conv layers or (num_samples, num_features) for dense layers.\n",
    "The first entry will be `labels`, which is a numpy array of shape (num_samples, no_features) containing the labels of the samples and concept values."
   ]
  },
  {
   "cell_type": "code",
   "execution_count": 2,
   "metadata": {},
   "outputs": [],
   "source": [
    "activations = np.load('activations/resnet18_cifar10.npz')"
   ]
  },
  {
   "cell_type": "code",
   "execution_count": 3,
   "metadata": {},
   "outputs": [
    {
     "data": {
      "text/plain": [
       "(500, 1)"
      ]
     },
     "execution_count": 3,
     "metadata": {},
     "output_type": "execute_result"
    }
   ],
   "source": [
    "activations['labels'].shape"
   ]
  },
  {
   "cell_type": "code",
   "execution_count": 4,
   "metadata": {},
   "outputs": [
    {
     "name": "stdout",
     "output_type": "stream",
     "text": [
      "['labels',\n",
      " 'conv1',\n",
      " 'bn1',\n",
      " 'relu',\n",
      " 'maxpool',\n",
      " 'layer1.0.conv1',\n",
      " 'layer1.0.bn1',\n",
      " 'layer1.0.relu',\n",
      " 'layer1.0.conv2',\n",
      " 'layer1.0.bn2',\n",
      " 'layer1.0',\n",
      " 'layer1.1.conv1',\n",
      " 'layer1.1.bn1',\n",
      " 'layer1.1.relu',\n",
      " 'layer1.1.conv2',\n",
      " 'layer1.1.bn2',\n",
      " 'layer1.1',\n",
      " 'layer1',\n",
      " 'layer2.0.conv1',\n",
      " 'layer2.0.bn1',\n",
      " 'layer2.0.relu',\n",
      " 'layer2.0.conv2',\n",
      " 'layer2.0.bn2',\n",
      " 'layer2.0.downsample.0',\n",
      " 'layer2.0.downsample.1',\n",
      " 'layer2.0.downsample',\n",
      " 'layer2.0',\n",
      " 'layer2.1.conv1',\n",
      " 'layer2.1.bn1',\n",
      " 'layer2.1.relu',\n",
      " 'layer2.1.conv2',\n",
      " 'layer2.1.bn2',\n",
      " 'layer2.1',\n",
      " 'layer2',\n",
      " 'layer3.0.conv1',\n",
      " 'layer3.0.bn1',\n",
      " 'layer3.0.relu',\n",
      " 'layer3.0.conv2',\n",
      " 'layer3.0.bn2',\n",
      " 'layer3.0.downsample.0',\n",
      " 'layer3.0.downsample.1',\n",
      " 'layer3.0.downsample',\n",
      " 'layer3.0',\n",
      " 'layer3.1.conv1',\n",
      " 'layer3.1.bn1',\n",
      " 'layer3.1.relu',\n",
      " 'layer3.1.conv2',\n",
      " 'layer3.1.bn2',\n",
      " 'layer3.1',\n",
      " 'layer3',\n",
      " 'layer4.0.conv1',\n",
      " 'layer4.0.bn1',\n",
      " 'layer4.0.relu',\n",
      " 'layer4.0.conv2',\n",
      " 'layer4.0.bn2',\n",
      " 'layer4.0.downsample.0',\n",
      " 'layer4.0.downsample.1',\n",
      " 'layer4.0.downsample',\n",
      " 'layer4.0',\n",
      " 'layer4.1.conv1',\n",
      " 'layer4.1.bn1',\n",
      " 'layer4.1.relu',\n",
      " 'layer4.1.conv2',\n",
      " 'layer4.1.bn2',\n",
      " 'layer4.1',\n",
      " 'layer4',\n",
      " 'avgpool',\n",
      " 'fc']\n"
     ]
    }
   ],
   "source": [
    "layer_names = activations.files\n",
    "pprint(layer_names)"
   ]
  },
  {
   "cell_type": "code",
   "execution_count": 5,
   "metadata": {},
   "outputs": [
    {
     "name": "stdout",
     "output_type": "stream",
     "text": [
      "(500, 1)\n",
      "(500, 64, 112, 112)\n",
      "(500, 64, 112, 112)\n",
      "(500, 64, 112, 112)\n",
      "(500, 64, 56, 56)\n",
      "(500, 64, 56, 56)\n",
      "(500, 64, 56, 56)\n",
      "(1000, 64, 56, 56)\n",
      "(500, 64, 56, 56)\n",
      "(500, 64, 56, 56)\n",
      "(500, 64, 56, 56)\n",
      "(500, 64, 56, 56)\n",
      "(500, 64, 56, 56)\n",
      "(1000, 64, 56, 56)\n",
      "(500, 64, 56, 56)\n",
      "(500, 64, 56, 56)\n",
      "(500, 64, 56, 56)\n",
      "(500, 64, 56, 56)\n",
      "(500, 128, 28, 28)\n",
      "(500, 128, 28, 28)\n",
      "(1000, 128, 28, 28)\n",
      "(500, 128, 28, 28)\n",
      "(500, 128, 28, 28)\n",
      "(500, 128, 28, 28)\n",
      "(500, 128, 28, 28)\n",
      "(500, 128, 28, 28)\n",
      "(500, 128, 28, 28)\n",
      "(500, 128, 28, 28)\n",
      "(500, 128, 28, 28)\n",
      "(1000, 128, 28, 28)\n",
      "(500, 128, 28, 28)\n",
      "(500, 128, 28, 28)\n",
      "(500, 128, 28, 28)\n",
      "(500, 128, 28, 28)\n",
      "(500, 256, 14, 14)\n",
      "(500, 256, 14, 14)\n",
      "(1000, 256, 14, 14)\n",
      "(500, 256, 14, 14)\n",
      "(500, 256, 14, 14)\n",
      "(500, 256, 14, 14)\n",
      "(500, 256, 14, 14)\n",
      "(500, 256, 14, 14)\n",
      "(500, 256, 14, 14)\n",
      "(500, 256, 14, 14)\n",
      "(500, 256, 14, 14)\n",
      "(1000, 256, 14, 14)\n",
      "(500, 256, 14, 14)\n",
      "(500, 256, 14, 14)\n",
      "(500, 256, 14, 14)\n",
      "(500, 256, 14, 14)\n",
      "(500, 512, 7, 7)\n",
      "(500, 512, 7, 7)\n",
      "(1000, 512, 7, 7)\n",
      "(500, 512, 7, 7)\n",
      "(500, 512, 7, 7)\n",
      "(500, 512, 7, 7)\n",
      "(500, 512, 7, 7)\n",
      "(500, 512, 7, 7)\n",
      "(500, 512, 7, 7)\n",
      "(500, 512, 7, 7)\n",
      "(500, 512, 7, 7)\n",
      "(1000, 512, 7, 7)\n",
      "(500, 512, 7, 7)\n",
      "(500, 512, 7, 7)\n",
      "(500, 512, 7, 7)\n",
      "(500, 512, 7, 7)\n",
      "(500, 512, 1, 1)\n",
      "(500, 1000)\n"
     ]
    }
   ],
   "source": [
    "for item in layer_names:\n",
    "    pprint(activations[item].shape)"
   ]
  },
  {
   "cell_type": "markdown",
   "metadata": {},
   "source": [
    "## Primer on computing CAVs"
   ]
  },
  {
   "cell_type": "code",
   "execution_count": 6,
   "metadata": {},
   "outputs": [],
   "source": [
    "from tcav.cav import compute_cav"
   ]
  },
  {
   "cell_type": "code",
   "execution_count": 7,
   "metadata": {},
   "outputs": [
    {
     "name": "stdout",
     "output_type": "stream",
     "text": [
      "labels_array.shape: (500,), layer41_array.shape: (500, 25088)\n"
     ]
    }
   ],
   "source": [
    "labels_array = activations['labels'].flatten() # for simplicity, we flatten the labels as we will work on cifar labels and try to get CAVs concept of \"5\"\n",
    "labels_array = np.where(labels_array == 5, 1, 0)\n",
    "layer41_array = activations['layer4.1'].reshape(activations['layer4.1'].shape[0], -1) # we will use layer4.1 activations to compute CAVs\n",
    "print(f\"labels_array.shape: {labels_array.shape}, layer41_array.shape: {layer41_array.shape}\")"
   ]
  },
  {
   "cell_type": "code",
   "execution_count": 8,
   "metadata": {},
   "outputs": [
    {
     "name": "stderr",
     "output_type": "stream",
     "text": [
      "/Users/michalwilinski/Work/bachelor/debias_env/lib/python3.11/site-packages/sklearn/linear_model/_ridge.py:255: UserWarning: Singular matrix in solving dual problem. Using least-squares solution instead.\n",
      "  warnings.warn(\n",
      "/Users/michalwilinski/Work/bachelor/debias_env/lib/python3.11/site-packages/sklearn/linear_model/_ridge.py:255: UserWarning: Singular matrix in solving dual problem. Using least-squares solution instead.\n",
      "  warnings.warn(\n",
      "/Users/michalwilinski/Work/bachelor/debias_env/lib/python3.11/site-packages/sklearn/linear_model/_ridge.py:255: UserWarning: Singular matrix in solving dual problem. Using least-squares solution instead.\n",
      "  warnings.warn(\n",
      "/Users/michalwilinski/Work/bachelor/debias_env/lib/python3.11/site-packages/sklearn/linear_model/_ridge.py:255: UserWarning: Singular matrix in solving dual problem. Using least-squares solution instead.\n",
      "  warnings.warn(\n",
      "/Users/michalwilinski/Work/bachelor/debias_env/lib/python3.11/site-packages/sklearn/linear_model/_ridge.py:255: UserWarning: Singular matrix in solving dual problem. Using least-squares solution instead.\n",
      "  warnings.warn(\n",
      "/Users/michalwilinski/Work/bachelor/debias_env/lib/python3.11/site-packages/sklearn/linear_model/_ridge.py:255: UserWarning: Singular matrix in solving dual problem. Using least-squares solution instead.\n",
      "  warnings.warn(\n",
      "/Users/michalwilinski/Work/bachelor/debias_env/lib/python3.11/site-packages/sklearn/linear_model/_ridge.py:255: UserWarning: Singular matrix in solving dual problem. Using least-squares solution instead.\n",
      "  warnings.warn(\n",
      "/Users/michalwilinski/Work/bachelor/debias_env/lib/python3.11/site-packages/sklearn/linear_model/_ridge.py:255: UserWarning: Singular matrix in solving dual problem. Using least-squares solution instead.\n",
      "  warnings.warn(\n",
      "/Users/michalwilinski/Work/bachelor/debias_env/lib/python3.11/site-packages/sklearn/linear_model/_ridge.py:255: UserWarning: Singular matrix in solving dual problem. Using least-squares solution instead.\n",
      "  warnings.warn(\n",
      "/Users/michalwilinski/Work/bachelor/debias_env/lib/python3.11/site-packages/sklearn/linear_model/_ridge.py:255: UserWarning: Singular matrix in solving dual problem. Using least-squares solution instead.\n",
      "  warnings.warn(\n",
      "/Users/michalwilinski/Work/bachelor/debias_env/lib/python3.11/site-packages/sklearn/linear_model/_ridge.py:255: UserWarning: Singular matrix in solving dual problem. Using least-squares solution instead.\n",
      "  warnings.warn(\n",
      "/Users/michalwilinski/Work/bachelor/debias_env/lib/python3.11/site-packages/sklearn/linear_model/_ridge.py:255: UserWarning: Singular matrix in solving dual problem. Using least-squares solution instead.\n",
      "  warnings.warn(\n",
      "/Users/michalwilinski/Work/bachelor/debias_env/lib/python3.11/site-packages/sklearn/linear_model/_ridge.py:255: UserWarning: Singular matrix in solving dual problem. Using least-squares solution instead.\n",
      "  warnings.warn(\n",
      "/Users/michalwilinski/Work/bachelor/debias_env/lib/python3.11/site-packages/sklearn/linear_model/_ridge.py:255: UserWarning: Singular matrix in solving dual problem. Using least-squares solution instead.\n",
      "  warnings.warn(\n",
      "/Users/michalwilinski/Work/bachelor/debias_env/lib/python3.11/site-packages/sklearn/linear_model/_ridge.py:255: UserWarning: Singular matrix in solving dual problem. Using least-squares solution instead.\n",
      "  warnings.warn(\n",
      "/Users/michalwilinski/Work/bachelor/debias_env/lib/python3.11/site-packages/sklearn/linear_model/_ridge.py:253: LinAlgWarning: Ill-conditioned matrix (rcond=1.3646e-09): result may not be accurate.\n",
      "  dual_coef = linalg.solve(K, y, assume_a=\"pos\", overwrite_a=False)\n",
      "/Users/michalwilinski/Work/bachelor/debias_env/lib/python3.11/site-packages/sklearn/linear_model/_ridge.py:253: LinAlgWarning: Ill-conditioned matrix (rcond=3.94057e-10): result may not be accurate.\n",
      "  dual_coef = linalg.solve(K, y, assume_a=\"pos\", overwrite_a=False)\n",
      "/Users/michalwilinski/Work/bachelor/debias_env/lib/python3.11/site-packages/sklearn/linear_model/_ridge.py:253: LinAlgWarning: Ill-conditioned matrix (rcond=3.08268e-10): result may not be accurate.\n",
      "  dual_coef = linalg.solve(K, y, assume_a=\"pos\", overwrite_a=False)\n",
      "/Users/michalwilinski/Work/bachelor/debias_env/lib/python3.11/site-packages/sklearn/linear_model/_ridge.py:253: LinAlgWarning: Ill-conditioned matrix (rcond=1.47624e-09): result may not be accurate.\n",
      "  dual_coef = linalg.solve(K, y, assume_a=\"pos\", overwrite_a=False)\n",
      "/Users/michalwilinski/Work/bachelor/debias_env/lib/python3.11/site-packages/sklearn/linear_model/_ridge.py:255: UserWarning: Singular matrix in solving dual problem. Using least-squares solution instead.\n",
      "  warnings.warn(\n",
      "/Users/michalwilinski/Work/bachelor/debias_env/lib/python3.11/site-packages/sklearn/linear_model/_ridge.py:253: LinAlgWarning: Ill-conditioned matrix (rcond=1.91933e-08): result may not be accurate.\n",
      "  dual_coef = linalg.solve(K, y, assume_a=\"pos\", overwrite_a=False)\n",
      "/Users/michalwilinski/Work/bachelor/debias_env/lib/python3.11/site-packages/sklearn/linear_model/_ridge.py:253: LinAlgWarning: Ill-conditioned matrix (rcond=1.86567e-08): result may not be accurate.\n",
      "  dual_coef = linalg.solve(K, y, assume_a=\"pos\", overwrite_a=False)\n",
      "/Users/michalwilinski/Work/bachelor/debias_env/lib/python3.11/site-packages/sklearn/linear_model/_ridge.py:253: LinAlgWarning: Ill-conditioned matrix (rcond=1.84206e-08): result may not be accurate.\n",
      "  dual_coef = linalg.solve(K, y, assume_a=\"pos\", overwrite_a=False)\n",
      "/Users/michalwilinski/Work/bachelor/debias_env/lib/python3.11/site-packages/sklearn/linear_model/_ridge.py:253: LinAlgWarning: Ill-conditioned matrix (rcond=1.41316e-08): result may not be accurate.\n",
      "  dual_coef = linalg.solve(K, y, assume_a=\"pos\", overwrite_a=False)\n"
     ]
    },
    {
     "name": "stdout",
     "output_type": "stream",
     "text": [
      "Best alpha: 1000\n",
      "CAV type:  ridge\n",
      "largest CAV values: torch.return_types.topk(\n",
      "values=tensor([0.0391, 0.0383, 0.0362, 0.0350, 0.0346, 0.0340, 0.0330, 0.0325, 0.0324,\n",
      "        0.0320]),\n",
      "indices=tensor([20357, 20358, 17533, 22284, 20023, 20024,  7374, 20350, 14185, 20017]))\n",
      "torch.Size([1, 25088]) (25088,)\n"
     ]
    }
   ],
   "source": [
    "cav, mean_act= compute_cav(layer41_array, labels_array, cav_type='ridge')\n",
    "print(cav.shape, mean_act.shape)"
   ]
  },
  {
   "cell_type": "code",
   "execution_count": 9,
   "metadata": {},
   "outputs": [],
   "source": [
    "from tcav.tcav import get_tcav_scores\n",
    "#tcav_scores = [get_tcav_scores(model, cav, dataloader, \"layer4.1\", cls, device='cpu') for cls in [0, 1, 5]]"
   ]
  },
  {
   "cell_type": "code",
   "execution_count": 10,
   "metadata": {},
   "outputs": [
    {
     "name": "stdout",
     "output_type": "stream",
     "text": [
      "torch.Size([1, 25088])\n"
     ]
    }
   ],
   "source": [
    "print(cav.shape)"
   ]
  },
  {
   "cell_type": "markdown",
   "metadata": {},
   "source": [
    "## P-Clarc - adding hook at a specific layer"
   ]
  },
  {
   "cell_type": "code",
   "execution_count": 11,
   "metadata": {},
   "outputs": [
    {
     "name": "stdout",
     "output_type": "stream",
     "text": [
      "Added hook to layer: layer4.1\n"
     ]
    },
    {
     "data": {
      "text/plain": [
       "[<torch.utils.hooks.RemovableHandle at 0x111928c90>]"
      ]
     },
     "execution_count": 11,
     "metadata": {},
     "output_type": "execute_result"
    }
   ],
   "source": [
    "from model_correction.clarc import add_clarc_hook\n",
    "\n",
    "add_clarc_hook(model, cav, mean_act, ['layer4.1'])"
   ]
  },
  {
   "cell_type": "code",
   "execution_count": 14,
   "metadata": {},
   "outputs": [
    {
     "name": "stdout",
     "output_type": "stream",
     "text": [
      "torch.Size([5, 1000])\n"
     ]
    }
   ],
   "source": [
    "\n",
    "samples = torch.stack([next(iter(dataloader))[0] for _ in range(5)], dim=0)\n",
    "samples = samples.squeeze(1)\n",
    "output = model(samples)\n",
    "print(output.shape)"
   ]
  },
  {
   "cell_type": "code",
   "execution_count": null,
   "metadata": {},
   "outputs": [],
   "source": []
  }
 ],
 "metadata": {
  "kernelspec": {
   "display_name": "Python 3",
   "language": "python",
   "name": "python3"
  },
  "language_info": {
   "codemirror_mode": {
    "name": "ipython",
    "version": 3
   },
   "file_extension": ".py",
   "mimetype": "text/x-python",
   "name": "python",
   "nbconvert_exporter": "python",
   "pygments_lexer": "ipython3",
   "version": "3.11.5"
  }
 },
 "nbformat": 4,
 "nbformat_minor": 2
}
