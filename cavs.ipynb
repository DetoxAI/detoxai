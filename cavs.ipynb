{
 "cells": [
  {
   "cell_type": "markdown",
   "metadata": {},
   "source": [
    "# Tutorial on CAVs\n"
   ]
  },
  {
   "cell_type": "markdown",
   "metadata": {},
   "source": [
    "### Extracting and saving activations from ResNet18/5% of CIFAR10"
   ]
  },
  {
   "cell_type": "code",
   "execution_count": 1,
   "metadata": {},
   "outputs": [
    {
     "name": "stderr",
     "output_type": "stream",
     "text": [
      "/Users/michalwilinski/Work/bachelor/debias_env/lib/python3.11/site-packages/torchvision/models/_utils.py:208: UserWarning: The parameter 'pretrained' is deprecated since 0.13 and may be removed in the future, please use 'weights' instead.\n",
      "  warnings.warn(\n",
      "/Users/michalwilinski/Work/bachelor/debias_env/lib/python3.11/site-packages/torchvision/models/_utils.py:223: UserWarning: Arguments other than a weight enum or `None` for 'weights' are deprecated since 0.13 and may be removed in the future. The current behavior is equivalent to passing `weights=ResNet18_Weights.IMAGENET1K_V1`. You can also use `weights=ResNet18_Weights.DEFAULT` to get the most up-to-date weights.\n",
      "  warnings.warn(msg)\n"
     ]
    },
    {
     "name": "stdout",
     "output_type": "stream",
     "text": [
      "Files already downloaded and verified\n",
      "Loaded activations from './activations/resnet18_cifar10.npz'\n",
      "Done!\n"
     ]
    }
   ],
   "source": [
    "from torch.utils.data import DataLoader\n",
    "import torch\n",
    "import torchvision.transforms as transforms\n",
    "import torchvision.datasets as datasets\n",
    "import torchvision\n",
    "import numpy as np\n",
    "from pprint import pprint\n",
    "\n",
    "from tcav.extract_activations import extract_activations\n",
    "\n",
    "# Define your model\n",
    "model = torchvision.models.resnet18(pretrained=True)\n",
    "\n",
    "# Define your dataset and dataloader\n",
    "transform = transforms.Compose([\n",
    "    transforms.Resize(256),\n",
    "    transforms.CenterCrop(224),\n",
    "    transforms.ToTensor(),\n",
    "])\n",
    "dataset = datasets.CIFAR10(root='./example_data', train=False, download=True, transform=transform)\n",
    "\n",
    "dataset = torch.utils.data.Subset(dataset, np.random.choice(len(dataset), int(len(dataset) * 0.1)))\n",
    "dataloader = DataLoader(dataset, batch_size=1, shuffle=False, num_workers=4)\n",
    "\n",
    "# Define the experiment name\n",
    "experiment_name = 'resnet18_cifar10'\n",
    "\n",
    "extract_activations(\n",
    "    model=model,\n",
    "    dataloader=dataloader,\n",
    "    experiment_name=experiment_name,\n",
    "    layers=None,  # None to extract from all layers\n",
    "    device='cuda' if torch.cuda.is_available() else 'cpu',\n",
    ")\n",
    "\n",
    "print('Done!')"
   ]
  },
  {
   "cell_type": "markdown",
   "metadata": {},
   "source": [
    "### Loading and interacting with activations\n",
    "\n",
    "Treat loaded file as a dict. Each key is a layer name, and each value is a numpy array of shape (num_samples, num_channels, height, width) for conv layers or (num_samples, num_features) for dense layers.\n",
    "The first entry will be `labels`, which is a numpy array of shape (num_samples, no_features) containing the labels of the samples and concept values."
   ]
  },
  {
   "cell_type": "code",
   "execution_count": 2,
   "metadata": {},
   "outputs": [],
   "source": [
    "activations = np.load('activations/resnet18_cifar10.npz')"
   ]
  },
  {
   "cell_type": "code",
   "execution_count": 3,
   "metadata": {},
   "outputs": [
    {
     "data": {
      "text/plain": [
       "(500, 1)"
      ]
     },
     "execution_count": 3,
     "metadata": {},
     "output_type": "execute_result"
    }
   ],
   "source": [
    "activations['labels'].shape"
   ]
  },
  {
   "cell_type": "code",
   "execution_count": 4,
   "metadata": {},
   "outputs": [
    {
     "name": "stdout",
     "output_type": "stream",
     "text": [
      "['labels',\n",
      " 'conv1',\n",
      " 'bn1',\n",
      " 'relu',\n",
      " 'maxpool',\n",
      " 'layer1.0.conv1',\n",
      " 'layer1.0.bn1',\n",
      " 'layer1.0.relu',\n",
      " 'layer1.0.conv2',\n",
      " 'layer1.0.bn2',\n",
      " 'layer1.0',\n",
      " 'layer1.1.conv1',\n",
      " 'layer1.1.bn1',\n",
      " 'layer1.1.relu',\n",
      " 'layer1.1.conv2',\n",
      " 'layer1.1.bn2',\n",
      " 'layer1.1',\n",
      " 'layer1',\n",
      " 'layer2.0.conv1',\n",
      " 'layer2.0.bn1',\n",
      " 'layer2.0.relu',\n",
      " 'layer2.0.conv2',\n",
      " 'layer2.0.bn2',\n",
      " 'layer2.0.downsample.0',\n",
      " 'layer2.0.downsample.1',\n",
      " 'layer2.0.downsample',\n",
      " 'layer2.0',\n",
      " 'layer2.1.conv1',\n",
      " 'layer2.1.bn1',\n",
      " 'layer2.1.relu',\n",
      " 'layer2.1.conv2',\n",
      " 'layer2.1.bn2',\n",
      " 'layer2.1',\n",
      " 'layer2',\n",
      " 'layer3.0.conv1',\n",
      " 'layer3.0.bn1',\n",
      " 'layer3.0.relu',\n",
      " 'layer3.0.conv2',\n",
      " 'layer3.0.bn2',\n",
      " 'layer3.0.downsample.0',\n",
      " 'layer3.0.downsample.1',\n",
      " 'layer3.0.downsample',\n",
      " 'layer3.0',\n",
      " 'layer3.1.conv1',\n",
      " 'layer3.1.bn1',\n",
      " 'layer3.1.relu',\n",
      " 'layer3.1.conv2',\n",
      " 'layer3.1.bn2',\n",
      " 'layer3.1',\n",
      " 'layer3',\n",
      " 'layer4.0.conv1',\n",
      " 'layer4.0.bn1',\n",
      " 'layer4.0.relu',\n",
      " 'layer4.0.conv2',\n",
      " 'layer4.0.bn2',\n",
      " 'layer4.0.downsample.0',\n",
      " 'layer4.0.downsample.1',\n",
      " 'layer4.0.downsample',\n",
      " 'layer4.0',\n",
      " 'layer4.1.conv1',\n",
      " 'layer4.1.bn1',\n",
      " 'layer4.1.relu',\n",
      " 'layer4.1.conv2',\n",
      " 'layer4.1.bn2',\n",
      " 'layer4.1',\n",
      " 'layer4',\n",
      " 'avgpool',\n",
      " 'fc']\n"
     ]
    }
   ],
   "source": [
    "layer_names = activations.files\n",
    "pprint(layer_names)"
   ]
  },
  {
   "cell_type": "code",
   "execution_count": 5,
   "metadata": {},
   "outputs": [
    {
     "name": "stdout",
     "output_type": "stream",
     "text": [
      "(500, 1)\n",
      "(500, 64, 112, 112)\n",
      "(500, 64, 112, 112)\n",
      "(500, 64, 112, 112)\n",
      "(500, 64, 56, 56)\n",
      "(500, 64, 56, 56)\n",
      "(500, 64, 56, 56)\n",
      "(1000, 64, 56, 56)\n",
      "(500, 64, 56, 56)\n",
      "(500, 64, 56, 56)\n",
      "(500, 64, 56, 56)\n",
      "(500, 64, 56, 56)\n",
      "(500, 64, 56, 56)\n",
      "(1000, 64, 56, 56)\n",
      "(500, 64, 56, 56)\n",
      "(500, 64, 56, 56)\n",
      "(500, 64, 56, 56)\n",
      "(500, 64, 56, 56)\n",
      "(500, 128, 28, 28)\n",
      "(500, 128, 28, 28)\n",
      "(1000, 128, 28, 28)\n",
      "(500, 128, 28, 28)\n",
      "(500, 128, 28, 28)\n",
      "(500, 128, 28, 28)\n",
      "(500, 128, 28, 28)\n",
      "(500, 128, 28, 28)\n",
      "(500, 128, 28, 28)\n",
      "(500, 128, 28, 28)\n",
      "(500, 128, 28, 28)\n",
      "(1000, 128, 28, 28)\n",
      "(500, 128, 28, 28)\n",
      "(500, 128, 28, 28)\n",
      "(500, 128, 28, 28)\n",
      "(500, 128, 28, 28)\n",
      "(500, 256, 14, 14)\n",
      "(500, 256, 14, 14)\n",
      "(1000, 256, 14, 14)\n",
      "(500, 256, 14, 14)\n",
      "(500, 256, 14, 14)\n",
      "(500, 256, 14, 14)\n",
      "(500, 256, 14, 14)\n",
      "(500, 256, 14, 14)\n",
      "(500, 256, 14, 14)\n",
      "(500, 256, 14, 14)\n",
      "(500, 256, 14, 14)\n",
      "(1000, 256, 14, 14)\n",
      "(500, 256, 14, 14)\n",
      "(500, 256, 14, 14)\n",
      "(500, 256, 14, 14)\n",
      "(500, 256, 14, 14)\n",
      "(500, 512, 7, 7)\n",
      "(500, 512, 7, 7)\n",
      "(1000, 512, 7, 7)\n",
      "(500, 512, 7, 7)\n",
      "(500, 512, 7, 7)\n",
      "(500, 512, 7, 7)\n",
      "(500, 512, 7, 7)\n",
      "(500, 512, 7, 7)\n",
      "(500, 512, 7, 7)\n",
      "(500, 512, 7, 7)\n",
      "(500, 512, 7, 7)\n",
      "(1000, 512, 7, 7)\n",
      "(500, 512, 7, 7)\n",
      "(500, 512, 7, 7)\n",
      "(500, 512, 7, 7)\n",
      "(500, 512, 7, 7)\n",
      "(500, 512, 1, 1)\n",
      "(500, 1000)\n"
     ]
    }
   ],
   "source": [
    "for item in layer_names:\n",
    "    pprint(activations[item].shape)"
   ]
  },
  {
   "cell_type": "markdown",
   "metadata": {},
   "source": [
    "## Primer on computing CAVs"
   ]
  },
  {
   "cell_type": "code",
   "execution_count": 6,
   "metadata": {},
   "outputs": [],
   "source": [
    "from tcav.cav import compute_cav"
   ]
  },
  {
   "cell_type": "code",
   "execution_count": 7,
   "metadata": {},
   "outputs": [
    {
     "name": "stdout",
     "output_type": "stream",
     "text": [
      "labels_array.shape: (500,), layer41_array.shape: (500, 25088)\n"
     ]
    }
   ],
   "source": [
    "labels_array = activations['labels'].flatten() # for simplicity, we flatten the labels as we will work on cifar labels and try to get CAVs concept of \"5\"\n",
    "labels_array = np.where(labels_array == 5, 1, 0)\n",
    "layer41_array = activations['layer4.1'].reshape(activations['layer4.1'].shape[0], -1) # we will use layer4.1 activations to compute CAVs\n",
    "print(f\"labels_array.shape: {labels_array.shape}, layer41_array.shape: {layer41_array.shape}\")"
   ]
  },
  {
   "cell_type": "code",
   "execution_count": 8,
   "metadata": {},
   "outputs": [
    {
     "name": "stderr",
     "output_type": "stream",
     "text": [
      "/Users/michalwilinski/Work/bachelor/debias_env/lib/python3.11/site-packages/sklearn/linear_model/_ridge.py:255: UserWarning: Singular matrix in solving dual problem. Using least-squares solution instead.\n",
      "  warnings.warn(\n",
      "/Users/michalwilinski/Work/bachelor/debias_env/lib/python3.11/site-packages/sklearn/linear_model/_ridge.py:255: UserWarning: Singular matrix in solving dual problem. Using least-squares solution instead.\n",
      "  warnings.warn(\n",
      "/Users/michalwilinski/Work/bachelor/debias_env/lib/python3.11/site-packages/sklearn/linear_model/_ridge.py:255: UserWarning: Singular matrix in solving dual problem. Using least-squares solution instead.\n",
      "  warnings.warn(\n",
      "/Users/michalwilinski/Work/bachelor/debias_env/lib/python3.11/site-packages/sklearn/linear_model/_ridge.py:255: UserWarning: Singular matrix in solving dual problem. Using least-squares solution instead.\n",
      "  warnings.warn(\n",
      "/Users/michalwilinski/Work/bachelor/debias_env/lib/python3.11/site-packages/sklearn/linear_model/_ridge.py:255: UserWarning: Singular matrix in solving dual problem. Using least-squares solution instead.\n",
      "  warnings.warn(\n",
      "/Users/michalwilinski/Work/bachelor/debias_env/lib/python3.11/site-packages/sklearn/linear_model/_ridge.py:255: UserWarning: Singular matrix in solving dual problem. Using least-squares solution instead.\n",
      "  warnings.warn(\n",
      "/Users/michalwilinski/Work/bachelor/debias_env/lib/python3.11/site-packages/sklearn/linear_model/_ridge.py:255: UserWarning: Singular matrix in solving dual problem. Using least-squares solution instead.\n",
      "  warnings.warn(\n",
      "/Users/michalwilinski/Work/bachelor/debias_env/lib/python3.11/site-packages/sklearn/linear_model/_ridge.py:255: UserWarning: Singular matrix in solving dual problem. Using least-squares solution instead.\n",
      "  warnings.warn(\n",
      "/Users/michalwilinski/Work/bachelor/debias_env/lib/python3.11/site-packages/sklearn/linear_model/_ridge.py:255: UserWarning: Singular matrix in solving dual problem. Using least-squares solution instead.\n",
      "  warnings.warn(\n",
      "/Users/michalwilinski/Work/bachelor/debias_env/lib/python3.11/site-packages/sklearn/linear_model/_ridge.py:255: UserWarning: Singular matrix in solving dual problem. Using least-squares solution instead.\n",
      "  warnings.warn(\n",
      "/Users/michalwilinski/Work/bachelor/debias_env/lib/python3.11/site-packages/sklearn/linear_model/_ridge.py:255: UserWarning: Singular matrix in solving dual problem. Using least-squares solution instead.\n",
      "  warnings.warn(\n",
      "/Users/michalwilinski/Work/bachelor/debias_env/lib/python3.11/site-packages/sklearn/linear_model/_ridge.py:255: UserWarning: Singular matrix in solving dual problem. Using least-squares solution instead.\n",
      "  warnings.warn(\n",
      "/Users/michalwilinski/Work/bachelor/debias_env/lib/python3.11/site-packages/sklearn/linear_model/_ridge.py:255: UserWarning: Singular matrix in solving dual problem. Using least-squares solution instead.\n",
      "  warnings.warn(\n",
      "/Users/michalwilinski/Work/bachelor/debias_env/lib/python3.11/site-packages/sklearn/linear_model/_ridge.py:255: UserWarning: Singular matrix in solving dual problem. Using least-squares solution instead.\n",
      "  warnings.warn(\n",
      "/Users/michalwilinski/Work/bachelor/debias_env/lib/python3.11/site-packages/sklearn/linear_model/_ridge.py:255: UserWarning: Singular matrix in solving dual problem. Using least-squares solution instead.\n",
      "  warnings.warn(\n",
      "/Users/michalwilinski/Work/bachelor/debias_env/lib/python3.11/site-packages/sklearn/linear_model/_ridge.py:253: LinAlgWarning: Ill-conditioned matrix (rcond=1.3646e-09): result may not be accurate.\n",
      "  dual_coef = linalg.solve(K, y, assume_a=\"pos\", overwrite_a=False)\n",
      "/Users/michalwilinski/Work/bachelor/debias_env/lib/python3.11/site-packages/sklearn/linear_model/_ridge.py:253: LinAlgWarning: Ill-conditioned matrix (rcond=3.94057e-10): result may not be accurate.\n",
      "  dual_coef = linalg.solve(K, y, assume_a=\"pos\", overwrite_a=False)\n",
      "/Users/michalwilinski/Work/bachelor/debias_env/lib/python3.11/site-packages/sklearn/linear_model/_ridge.py:253: LinAlgWarning: Ill-conditioned matrix (rcond=3.08268e-10): result may not be accurate.\n",
      "  dual_coef = linalg.solve(K, y, assume_a=\"pos\", overwrite_a=False)\n",
      "/Users/michalwilinski/Work/bachelor/debias_env/lib/python3.11/site-packages/sklearn/linear_model/_ridge.py:253: LinAlgWarning: Ill-conditioned matrix (rcond=1.47624e-09): result may not be accurate.\n",
      "  dual_coef = linalg.solve(K, y, assume_a=\"pos\", overwrite_a=False)\n",
      "/Users/michalwilinski/Work/bachelor/debias_env/lib/python3.11/site-packages/sklearn/linear_model/_ridge.py:255: UserWarning: Singular matrix in solving dual problem. Using least-squares solution instead.\n",
      "  warnings.warn(\n",
      "/Users/michalwilinski/Work/bachelor/debias_env/lib/python3.11/site-packages/sklearn/linear_model/_ridge.py:253: LinAlgWarning: Ill-conditioned matrix (rcond=1.91933e-08): result may not be accurate.\n",
      "  dual_coef = linalg.solve(K, y, assume_a=\"pos\", overwrite_a=False)\n",
      "/Users/michalwilinski/Work/bachelor/debias_env/lib/python3.11/site-packages/sklearn/linear_model/_ridge.py:253: LinAlgWarning: Ill-conditioned matrix (rcond=1.86567e-08): result may not be accurate.\n",
      "  dual_coef = linalg.solve(K, y, assume_a=\"pos\", overwrite_a=False)\n",
      "/Users/michalwilinski/Work/bachelor/debias_env/lib/python3.11/site-packages/sklearn/linear_model/_ridge.py:253: LinAlgWarning: Ill-conditioned matrix (rcond=1.84206e-08): result may not be accurate.\n",
      "  dual_coef = linalg.solve(K, y, assume_a=\"pos\", overwrite_a=False)\n",
      "/Users/michalwilinski/Work/bachelor/debias_env/lib/python3.11/site-packages/sklearn/linear_model/_ridge.py:253: LinAlgWarning: Ill-conditioned matrix (rcond=1.41316e-08): result may not be accurate.\n",
      "  dual_coef = linalg.solve(K, y, assume_a=\"pos\", overwrite_a=False)\n"
     ]
    },
    {
     "name": "stdout",
     "output_type": "stream",
     "text": [
      "Best alpha: 1000\n",
      "CAV type:  ridge\n",
      "largest CAV values: torch.return_types.topk(\n",
      "values=tensor([0.0391, 0.0383, 0.0362, 0.0350, 0.0346, 0.0340, 0.0330, 0.0325, 0.0324,\n",
      "        0.0320]),\n",
      "indices=tensor([20357, 20358, 17533, 22284, 20023, 20024,  7374, 20350, 14185, 20017]))\n",
      "torch.Size([25088])\n"
     ]
    }
   ],
   "source": [
    "cav = compute_cav(layer41_array, labels_array, cav_type='ridge').reshape(-1)\n",
    "print(cav.shape)"
   ]
  },
  {
   "cell_type": "code",
   "execution_count": 9,
   "metadata": {},
   "outputs": [
    {
     "name": "stdout",
     "output_type": "stream",
     "text": [
      "Collecting torchviz\n",
      "  Using cached torchviz-0.0.2-py3-none-any.whl\n",
      "Requirement already satisfied: torch in /Users/michalwilinski/Work/bachelor/debias_env/lib/python3.11/site-packages (from torchviz) (2.5.0)\n",
      "Collecting graphviz (from torchviz)\n",
      "  Using cached graphviz-0.20.3-py3-none-any.whl.metadata (12 kB)\n",
      "Requirement already satisfied: filelock in /Users/michalwilinski/Work/bachelor/debias_env/lib/python3.11/site-packages (from torch->torchviz) (3.16.1)\n",
      "Requirement already satisfied: typing-extensions>=4.8.0 in /Users/michalwilinski/Work/bachelor/debias_env/lib/python3.11/site-packages (from torch->torchviz) (4.12.2)\n",
      "Requirement already satisfied: networkx in /Users/michalwilinski/Work/bachelor/debias_env/lib/python3.11/site-packages (from torch->torchviz) (3.4.2)\n",
      "Requirement already satisfied: jinja2 in /Users/michalwilinski/Work/bachelor/debias_env/lib/python3.11/site-packages (from torch->torchviz) (3.1.4)\n",
      "Requirement already satisfied: fsspec in /Users/michalwilinski/Work/bachelor/debias_env/lib/python3.11/site-packages (from torch->torchviz) (2024.10.0)\n",
      "Requirement already satisfied: sympy==1.13.1 in /Users/michalwilinski/Work/bachelor/debias_env/lib/python3.11/site-packages (from torch->torchviz) (1.13.1)\n",
      "Requirement already satisfied: mpmath<1.4,>=1.1.0 in /Users/michalwilinski/Work/bachelor/debias_env/lib/python3.11/site-packages (from sympy==1.13.1->torch->torchviz) (1.3.0)\n",
      "Requirement already satisfied: MarkupSafe>=2.0 in /Users/michalwilinski/Work/bachelor/debias_env/lib/python3.11/site-packages (from jinja2->torch->torchviz) (3.0.2)\n",
      "Using cached graphviz-0.20.3-py3-none-any.whl (47 kB)\n",
      "Installing collected packages: graphviz, torchviz\n",
      "Successfully installed graphviz-0.20.3 torchviz-0.0.2\n"
     ]
    }
   ],
   "source": [
    "!pip install torchviz"
   ]
  },
  {
   "cell_type": "code",
   "execution_count": 10,
   "metadata": {},
   "outputs": [
    {
     "name": "stderr",
     "output_type": "stream",
     "text": [
      "Computing TCAV Scores:  10%|█         | 100/1000 [00:43<06:27,  2.32it/s]\n",
      "Computing TCAV Scores:  10%|█         | 100/1000 [00:40<06:07,  2.45it/s]\n",
      "Computing TCAV Scores:  10%|█         | 100/1000 [00:41<06:14,  2.40it/s]\n"
     ]
    }
   ],
   "source": [
    "from tcav.tcav import get_tcav_scores\n",
    "tcav_scores = [get_tcav_scores(model, cav, dataloader, \"layer4.1\", cls, device='cpu') for cls in [0, 1, 5]]"
   ]
  },
  {
   "cell_type": "code",
   "execution_count": 11,
   "metadata": {},
   "outputs": [
    {
     "data": {
      "text/plain": [
       "[(0.2, 20, 100), (0.05, 5, 100), (0.02, 2, 100)]"
      ]
     },
     "execution_count": 11,
     "metadata": {},
     "output_type": "execute_result"
    }
   ],
   "source": [
    "tcav_scores"
   ]
  },
  {
   "cell_type": "code",
   "execution_count": null,
   "metadata": {},
   "outputs": [],
   "source": []
  }
 ],
 "metadata": {
  "kernelspec": {
   "display_name": "Python 3",
   "language": "python",
   "name": "python3"
  },
  "language_info": {
   "codemirror_mode": {
    "name": "ipython",
    "version": 3
   },
   "file_extension": ".py",
   "mimetype": "text/x-python",
   "name": "python",
   "nbconvert_exporter": "python",
   "pygments_lexer": "ipython3",
   "version": "3.11.5"
  }
 },
 "nbformat": 4,
 "nbformat_minor": 2
}
